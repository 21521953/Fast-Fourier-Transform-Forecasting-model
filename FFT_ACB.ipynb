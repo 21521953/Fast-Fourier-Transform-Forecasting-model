{
 "cells": [
  {
   "cell_type": "code",
   "execution_count": 141,
   "metadata": {},
   "outputs": [
    {
     "name": "stdout",
     "output_type": "stream",
     "text": [
      "The autoreload extension is already loaded. To reload it, use:\n",
      "  %reload_ext autoreload\n"
     ]
    }
   ],
   "source": [
    "%load_ext autoreload\n",
    "%autoreload 2\n",
    "%matplotlib inline\n",
    "import pandas as pd\n",
    "import numpy as np\n",
    "import matplotlib.pyplot as plt\n",
    "from darts import TimeSeries\n",
    "from darts.models import FFT\n",
    "from darts.metrics import mape,mae,rmse\n",
    "import warnings\n",
    "\n",
    "warnings.filterwarnings(\"ignore\")\n",
    "import logging\n",
    "\n",
    "logging.disable(logging.CRITICAL)"
   ]
  },
  {
   "cell_type": "code",
   "execution_count": 142,
   "metadata": {},
   "outputs": [
    {
     "data": {
      "text/html": [
       "<div>\n",
       "<style scoped>\n",
       "    .dataframe tbody tr th:only-of-type {\n",
       "        vertical-align: middle;\n",
       "    }\n",
       "\n",
       "    .dataframe tbody tr th {\n",
       "        vertical-align: top;\n",
       "    }\n",
       "\n",
       "    .dataframe thead th {\n",
       "        text-align: right;\n",
       "    }\n",
       "</style>\n",
       "<table border=\"1\" class=\"dataframe\">\n",
       "  <thead>\n",
       "    <tr style=\"text-align: right;\">\n",
       "      <th></th>\n",
       "      <th>Date</th>\n",
       "      <th>Price</th>\n",
       "    </tr>\n",
       "  </thead>\n",
       "  <tbody>\n",
       "    <tr>\n",
       "      <th>0</th>\n",
       "      <td>2024-03-01</td>\n",
       "      <td>27800.0</td>\n",
       "    </tr>\n",
       "    <tr>\n",
       "      <th>1</th>\n",
       "      <td>2024-02-29</td>\n",
       "      <td>28000.0</td>\n",
       "    </tr>\n",
       "    <tr>\n",
       "      <th>2</th>\n",
       "      <td>2024-02-28</td>\n",
       "      <td>28000.0</td>\n",
       "    </tr>\n",
       "    <tr>\n",
       "      <th>3</th>\n",
       "      <td>2024-02-27</td>\n",
       "      <td>27600.0</td>\n",
       "    </tr>\n",
       "    <tr>\n",
       "      <th>4</th>\n",
       "      <td>2024-02-26</td>\n",
       "      <td>27500.0</td>\n",
       "    </tr>\n",
       "    <tr>\n",
       "      <th>...</th>\n",
       "      <td>...</td>\n",
       "      <td>...</td>\n",
       "    </tr>\n",
       "    <tr>\n",
       "      <th>1242</th>\n",
       "      <td>2019-03-07</td>\n",
       "      <td>11550.3</td>\n",
       "    </tr>\n",
       "    <tr>\n",
       "      <th>1243</th>\n",
       "      <td>2019-03-06</td>\n",
       "      <td>11474.6</td>\n",
       "    </tr>\n",
       "    <tr>\n",
       "      <th>1244</th>\n",
       "      <td>2019-03-05</td>\n",
       "      <td>11474.6</td>\n",
       "    </tr>\n",
       "    <tr>\n",
       "      <th>1245</th>\n",
       "      <td>2019-03-04</td>\n",
       "      <td>11512.4</td>\n",
       "    </tr>\n",
       "    <tr>\n",
       "      <th>1246</th>\n",
       "      <td>2019-03-01</td>\n",
       "      <td>11361.0</td>\n",
       "    </tr>\n",
       "  </tbody>\n",
       "</table>\n",
       "<p>1247 rows × 2 columns</p>\n",
       "</div>"
      ],
      "text/plain": [
       "           Date    Price\n",
       "0    2024-03-01  27800.0\n",
       "1    2024-02-29  28000.0\n",
       "2    2024-02-28  28000.0\n",
       "3    2024-02-27  27600.0\n",
       "4    2024-02-26  27500.0\n",
       "...         ...      ...\n",
       "1242 2019-03-07  11550.3\n",
       "1243 2019-03-06  11474.6\n",
       "1244 2019-03-05  11474.6\n",
       "1245 2019-03-04  11512.4\n",
       "1246 2019-03-01  11361.0\n",
       "\n",
       "[1247 rows x 2 columns]"
      ]
     },
     "execution_count": 142,
     "metadata": {},
     "output_type": "execute_result"
    }
   ],
   "source": [
    "# 1. Data preprocessing\n",
    "df=pd.read_csv('ACB-Historical-Data.csv')\n",
    "df['Date'] = pd.to_datetime(df['Date'],format='mixed')\n",
    "df['Price'] = df['Price'].str.replace(',', '').astype(float)\n",
    "df = df[['Date','Price']]\n",
    "df"
   ]
  },
  {
   "cell_type": "code",
   "execution_count": 143,
   "metadata": {},
   "outputs": [],
   "source": [
    "df = df.dropna() # Drop missing values\n",
    "df = df.reset_index(drop=True) # Reset the index"
   ]
  },
  {
   "cell_type": "code",
   "execution_count": 144,
   "metadata": {},
   "outputs": [],
   "source": [
    "# 2. Prepare TimeSeries data\n",
    "ts = TimeSeries.from_dataframe(df,time_col='Date',value_cols='Price', freq='D')"
   ]
  },
  {
   "cell_type": "code",
   "execution_count": 145,
   "metadata": {},
   "outputs": [],
   "source": [
    "# 3. Split data into training and test sets\n",
    "\n",
    "total_length = len(ts)\n",
    "train_size = int(0.7 * total_length)\n",
    "\n",
    "train, test = ts.split_before(ts.time_index[train_size])\n"
   ]
  },
  {
   "cell_type": "code",
   "execution_count": 146,
   "metadata": {},
   "outputs": [],
   "source": [
    "# 4. Define and fit the FFT model on train set, then make predictions on test set\n",
    "fft_model = FFT(required_matches={'month','day','hour','minute','second'}, trend='poly',trend_poly_degree=1)\n",
    "model_fit = fft_model.fit(train)\n",
    "\n",
    "y_pred = model_fit.predict(len(test))"
   ]
  },
  {
   "cell_type": "code",
   "execution_count": 147,
   "metadata": {},
   "outputs": [
    {
     "name": "stdout",
     "output_type": "stream",
     "text": [
      "Predicted closing prices for the next 30 days:\n",
      "<TimeSeries (DataArray) (Date: 30, component: 1, sample: 1)> Size: 240B\n",
      "array([[[37856.08474863]],\n",
      "\n",
      "       [[37906.83998826]],\n",
      "\n",
      "       [[37958.40766734]],\n",
      "\n",
      "       [[38010.78837726]],\n",
      "\n",
      "       [[38063.98207869]],\n",
      "\n",
      "       [[38117.98809717]],\n",
      "\n",
      "       [[38172.80511922]],\n",
      "\n",
      "       [[38228.43118893]],\n",
      "\n",
      "       [[38284.86370502]],\n",
      "\n",
      "       [[38342.0994184 ]],\n",
      "\n",
      "...\n",
      "\n",
      "       [[39023.12226659]],\n",
      "\n",
      "       [[39089.50597101]],\n",
      "\n",
      "       [[39156.59148585]],\n",
      "\n",
      "       [[39224.36651782]],\n",
      "\n",
      "       [[39292.81814969]],\n",
      "\n",
      "       [[39361.93284597]],\n",
      "\n",
      "       [[39431.69645898]],\n",
      "\n",
      "       [[39502.09423559]],\n",
      "\n",
      "       [[39573.11082426]],\n",
      "\n",
      "       [[39644.73028274]]])\n",
      "Coordinates:\n",
      "  * Date       (Date) datetime64[ns] 240B 2024-03-02 2024-03-03 ... 2024-03-31\n",
      "  * component  (component) object 8B 'Price'\n",
      "Dimensions without coordinates: sample\n",
      "Attributes:\n",
      "    static_covariates:  None\n",
      "    hierarchy:          None\n"
     ]
    }
   ],
   "source": [
    "# 5. Predict for the next 30 days\n",
    "\n",
    "# Create a date range for the next 30 days\n",
    "next_30_days_index = pd.date_range(start=test.time_index[0] + pd.DateOffset(days=1), periods=len(test) + 30)\n",
    "x_30 = pd.to_datetime(next_30_days_index)\n",
    "\n",
    "# Predict the closing prices for the next 30 days\n",
    "y_next_30_days = model_fit.predict(len(x_30))\n",
    "y_next_30_days_trimmed = y_next_30_days[len(test):]\n",
    "\n",
    "y_pred_30 = TimeSeries.from_times_and_values(\n",
    "    times= next_30_days_index[len(test):],\n",
    "    values= y_next_30_days_trimmed.values(),\n",
    "    fill_missing_dates=True  \n",
    ")\n",
    "# Print the predicted closing prices for the next 30 days\n",
    "print('Predicted closing prices for the next 30 days:')\n",
    "print(y_next_30_days_trimmed)\n"
   ]
  },
  {
   "cell_type": "code",
   "execution_count": 148,
   "metadata": {},
   "outputs": [
    {
     "name": "stdout",
     "output_type": "stream",
     "text": [
      "Mean Absolute Percentage Error (MAPE): 34.80136010876019\n",
      "Mean Absolute Error (MAE): 7961.6606881462985\n",
      "Root Mean Squared Error (RMSE): 8463.934633382038\n"
     ]
    }
   ],
   "source": [
    "# 6. Model evaluation\n",
    "mape_value = mape(test, y_pred)\n",
    "mae_value = mae(test, y_pred)\n",
    "rmse_value = rmse(test, y_pred)\n",
    "\n",
    "print(\"Mean Absolute Percentage Error (MAPE):\", mape_value)\n",
    "print(\"Mean Absolute Error (MAE):\", mae_value)\n",
    "print(\"Root Mean Squared Error (RMSE):\", rmse_value)\n"
   ]
  },
  {
   "cell_type": "code",
   "execution_count": 149,
   "metadata": {},
   "outputs": [
    {
     "data": {
      "text/plain": [
       "<Axes: xlabel='time'>"
      ]
     },
     "execution_count": 149,
     "metadata": {},
     "output_type": "execute_result"
    },
    {
     "data": {
      "image/png": "[encoded data removed]",
      "text/plain": [
       "<Figure size 640x480 with 1 Axes>"
      ]
     },
     "metadata": {},
     "output_type": "display_data"
    }
   ],
   "source": [
    "# 7. Plotting\n",
    "train.plot(label=\"train\")\n",
    "test.plot(label=\"test\")\n",
    "y_pred.plot(label=\"Predicted\")\n",
    "y_pred_30.plot(label=\"Predicted for the next 30 days\", color = 'r')\n"
   ]
  }
 ],
 "metadata": {
  "kernelspec": {
   "display_name": "Python 3",
   "language": "python",
   "name": "python3"
  },
  "language_info": {
   "codemirror_mode": {
    "name": "ipython",
    "version": 3
   },
   "file_extension": ".py",
   "mimetype": "text/x-python",
   "name": "python",
   "nbconvert_exporter": "python",
   "pygments_lexer": "ipython3",
   "version": "3.12.0"
  }
 },
 "nbformat": 4,
 "nbformat_minor": 2
}
